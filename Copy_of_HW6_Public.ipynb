{
  "cells": [
    {
      "cell_type": "markdown",
      "metadata": {
        "id": "6WAd2qP3dz7G"
      },
      "source": [
        "# Utils and Imports"
      ]
    },
    {
      "cell_type": "markdown",
      "metadata": {
        "id": "KnP_ayfWdz7G"
      },
      "source": [
        "Importing all necessary libraries.\n"
      ]
    },
    {
      "cell_type": "code",
      "execution_count": null,
      "metadata": {
        "id": "7GFTCczsdz7G"
      },
      "outputs": [
        {
          "ename": "",
          "evalue": "",
          "output_type": "error",
          "traceback": [
            "\u001b[1;31mRunning cells with 'Python 3.11.12' requires the ipykernel package.\n",
            "\u001b[1;31m<a href='command:jupyter.createPythonEnvAndSelectController'>Create a Python Environment</a> with the required packages.\n",
            "\u001b[1;31mOr install 'ipykernel' using the command: '/opt/homebrew/bin/python3.11 -m pip install ipykernel -U --user --force-reinstall'"
          ]
        }
      ],
      "source": [
        "import numpy as np\n",
        "from matplotlib import pyplot as plt\n",
        "from skimage.color import rgb2xyz\n",
        "import warnings\n",
        "from scipy.ndimage import gaussian_filter\n",
        "from matplotlib import cm\n",
        "from skimage.io import imread\n",
        "from scipy.sparse import kron as spkron\n",
        "from scipy.sparse import eye as speye\n",
        "from scipy.sparse.linalg import lsqr as splsqr\n",
        "import os\n",
        "import shutil\n"
      ]
    },
    {
      "cell_type": "markdown",
      "metadata": {
        "id": "duAlA7N378I1"
      },
      "source": [
        "Downloading the data"
      ]
    },
    {
      "cell_type": "code",
      "execution_count": null,
      "metadata": {
        "colab": {
          "base_uri": "https://localhost:8080/"
        },
        "id": "aH-aX5ao76PT",
        "outputId": "e0108eb9-af03-49a3-dcc5-ba9f1c930bc1"
      },
      "outputs": [],
      "source": [
        "if os.path.exists('/content/data'):\n",
        "  shutil.rmtree('/content/data')\n",
        "\n",
        "os.mkdir('/content/data')\n",
        "!wget 'https://docs.google.com/uc?export=download&id=13nA1Haq6bJz0-h_7NmovvSRrRD76qiF0' -O /content/data/data.zip\n",
        "!unzip \"/content/data/data.zip\" -d \"/content/\"\n",
        "os.system(\"rm /content/data/data.zip\")\n",
        "data_dir = '/content/data/'\n"
      ]
    },
    {
      "cell_type": "markdown",
      "metadata": {
        "id": "bl-SYcKFdz7I"
      },
      "source": [
        "Utils Functions."
      ]
    },
    {
      "cell_type": "code",
      "execution_count": null,
      "metadata": {
        "id": "c6GJgfardz7I"
      },
      "outputs": [],
      "source": [
        "def integrateFrankot(zx, zy, pad = 512):\n",
        "\n",
        "    \"\"\"\n",
        "    Question 1 (j)\n",
        "\n",
        "    Implement the Frankot-Chellappa algorithm for enforcing integrability\n",
        "    and normal integration\n",
        "\n",
        "    Parameters\n",
        "    ----------\n",
        "    zx : numpy.ndarray\n",
        "        The image of derivatives of the depth along the x image dimension\n",
        "\n",
        "    zy : tuple\n",
        "        The image of derivatives of the depth along the y image dimension\n",
        "\n",
        "    pad : float\n",
        "        The size of the full FFT used for the reconstruction\n",
        "\n",
        "    Returns\n",
        "    ----------\n",
        "    z: numpy.ndarray\n",
        "        The image, of the same size as the derivatives, of estimated depths\n",
        "        at each point\n",
        "\n",
        "    \"\"\"\n",
        "\n",
        "    # Raise error if the shapes of the gradients don't match\n",
        "    if not zx.shape == zy.shape:\n",
        "        raise ValueError('Sizes of both gradients must match!')\n",
        "\n",
        "    # Pad the array FFT with a size we specify\n",
        "    h, w = 512, 512\n",
        "\n",
        "    # Fourier transform of gradients for projection\n",
        "    Zx = np.fft.fftshift(np.fft.fft2(zx, (h, w)))\n",
        "    Zy = np.fft.fftshift(np.fft.fft2(zy, (h, w)))\n",
        "    j = 1j\n",
        "\n",
        "    # Frequency grid\n",
        "    [wx, wy] = np.meshgrid(np.linspace(-np.pi, np.pi, w),\n",
        "                           np.linspace(-np.pi, np.pi, h))\n",
        "    absFreq = wx**2 + wy**2\n",
        "\n",
        "    # Perform the actual projection\n",
        "    with warnings.catch_warnings():\n",
        "        warnings.simplefilter('ignore')\n",
        "        z = (-j*wx*Zx-j*wy*Zy)/absFreq\n",
        "\n",
        "    # Set (undefined) mean value of the surface depth to 0\n",
        "    z[0, 0] = 0.\n",
        "    z = np.fft.ifftshift(z)\n",
        "\n",
        "    # Invert the Fourier transform for the depth\n",
        "    z = np.real(np.fft.ifft2(z))\n",
        "    z = z[:zx.shape[0], :zx.shape[1]]\n",
        "\n",
        "    return z\n",
        "\n",
        "\n",
        "def enforceIntegrability(N, s, sig = 3):\n",
        "\n",
        "    \"\"\"\n",
        "    Question 2 (e)\n",
        "\n",
        "    Find a transform Q that makes the normals integrable and transform them\n",
        "    by it\n",
        "\n",
        "    Parameters\n",
        "    ----------\n",
        "    N : numpy.ndarray\n",
        "        The 3 x P matrix of (possibly) non-integrable normals\n",
        "\n",
        "    s : tuple\n",
        "        Image shape\n",
        "\n",
        "    Returns\n",
        "    -------\n",
        "    Nt : numpy.ndarray\n",
        "        The 3 x P matrix of transformed, integrable normals\n",
        "    \"\"\"\n",
        "\n",
        "    N1 = N[0, :].reshape(s)\n",
        "    N2 = N[1, :].reshape(s)\n",
        "    N3 = N[2, :].reshape(s)\n",
        "\n",
        "    N1y, N1x = np.gradient(gaussian_filter(N1, sig), edge_order = 2)\n",
        "    N2y, N2x = np.gradient(gaussian_filter(N2, sig), edge_order = 2)\n",
        "    N3y, N3x = np.gradient(gaussian_filter(N3, sig), edge_order = 2)\n",
        "\n",
        "    A1 = N1*N2x-N2*N1x\n",
        "    A2 = N1*N3x-N3*N1x\n",
        "    A3 = N2*N3x-N3*N2x\n",
        "    A4 = N2*N1y-N1*N2y\n",
        "    A5 = N3*N1y-N1*N3y\n",
        "    A6 = N3*N2y-N2*N3y\n",
        "\n",
        "    A = np.hstack((A1.reshape(-1, 1),\n",
        "                   A2.reshape(-1, 1),\n",
        "                   A3.reshape(-1, 1),\n",
        "                   A4.reshape(-1, 1),\n",
        "                   A5.reshape(-1, 1),\n",
        "                   A6.reshape(-1, 1)))\n",
        "\n",
        "    AtA = A.T.dot(A)\n",
        "    W, V = np.linalg.eig(AtA)\n",
        "    h = V[:, np.argmin(np.abs(W))]\n",
        "\n",
        "    delta = np.asarray([[-h[2],  h[5], 1],\n",
        "                        [ h[1], -h[4], 0],\n",
        "                        [-h[0],  h[3], 0]])\n",
        "    Nt = np.linalg.inv(delta).dot(N)\n",
        "\n",
        "    return Nt\n",
        "\n",
        "def plotSurface(surface, suffix='',title=None):\n",
        "\n",
        "    \"\"\"\n",
        "    Plot the depth map as a surface\n",
        "\n",
        "    Parameters\n",
        "    ----------\n",
        "    surface : numpy.ndarray\n",
        "        The depth map to be plotted\n",
        "\n",
        "    suffix: str\n",
        "        suffix for save file\n",
        "\n",
        "    Returns\n",
        "    -------\n",
        "        None\n",
        "\n",
        "    \"\"\"\n",
        "    x, y = np.meshgrid(np.arange(surface.shape[1]),\n",
        "                       np.arange(surface.shape[0]))\n",
        "    fig = plt.figure()\n",
        "    #ax = fig.gca(projection='3d')\n",
        "    ax = fig.add_subplot(111, projection='3d')\n",
        "    surf = ax.plot_surface(x, y, -surface, cmap = cm.coolwarm,\n",
        "                           linewidth = 0, antialiased = False)\n",
        "    ax.view_init(elev = 60., azim = 75.)\n",
        "    if title:\n",
        "      ax.set_title(title)\n",
        "    plt.savefig(f'faceCalibrated{suffix}.png')\n",
        "    plt.show()\n",
        "\n",
        "def loadData(path = \"../data/\"):\n",
        "\n",
        "    \"\"\"\n",
        "    Question 1 (c)\n",
        "\n",
        "    Load data from the path given. The images are stored as input_n.tif\n",
        "    for n = {1...7}. The source lighting directions are stored in\n",
        "    sources.mat.\n",
        "\n",
        "    Paramters\n",
        "    ---------\n",
        "    path: str\n",
        "        Path of the data directory\n",
        "\n",
        "    Returns\n",
        "    -------\n",
        "    I : numpy.ndarray\n",
        "        The 7 x P matrix of vectorized images\n",
        "\n",
        "    L : numpy.ndarray\n",
        "        The 3 x 7 matrix of lighting directions\n",
        "\n",
        "    s: tuple\n",
        "        Image shape\n",
        "\n",
        "    \"\"\"\n",
        "    I = None\n",
        "    L = None\n",
        "    s = None\n",
        "\n",
        "    L = np.load(path + 'sources.npy').T\n",
        "\n",
        "    im = imread(path + 'input_1.tif')\n",
        "    P = im[:, :, 0].size\n",
        "    s = im[:, :, 0].shape\n",
        "\n",
        "    I = np.zeros((7, P))\n",
        "    for i in range(1, 8):\n",
        "        im = imread(path + 'input_' + str(i) + '.tif')\n",
        "        im = rgb2xyz(im)[:, :, 1]\n",
        "        I[i-1, :] = im.reshape(-1,)\n",
        "\n",
        "    return I, L, s\n",
        "\n",
        "def displayAlbedosNormals(albedos, normals, s):\n",
        "\n",
        "    \"\"\"\n",
        "    Question 1 (e)\n",
        "\n",
        "    From the estimated pseudonormals, display the albedo and normal maps\n",
        "\n",
        "    Please make sure to use the `coolwarm` colormap for the albedo image\n",
        "    and the `rainbow` colormap for the normals.\n",
        "\n",
        "    Parameters\n",
        "    ----------\n",
        "    albedos : numpy.ndarray\n",
        "        The vector of albedos\n",
        "\n",
        "    normals : numpy.ndarray\n",
        "        The 3 x P matrix of normals\n",
        "\n",
        "    s : tuple\n",
        "        Image shape\n",
        "\n",
        "    Returns\n",
        "    -------\n",
        "    albedoIm : numpy.ndarray\n",
        "        Albedo image of shape s\n",
        "\n",
        "    normalIm : numpy.ndarray\n",
        "        Normals reshaped as an s x 3 image\n",
        "\n",
        "    \"\"\"\n",
        "    albedoIm = None\n",
        "    normalIm = None\n",
        "\n",
        "    albedoIm = albedos.reshape(s)\n",
        "    normalIm = (normals.T.reshape((s[0], s[1], 3))+1)/2\n",
        "\n",
        "    plt.figure()\n",
        "    plt.imshow(albedoIm, cmap = 'gray')\n",
        "\n",
        "    plt.figure()\n",
        "    plt.imshow(normalIm, cmap = 'rainbow')\n",
        "\n",
        "    plt.show()\n",
        "\n",
        "    return albedoIm, normalIm"
      ]
    },
    {
      "cell_type": "markdown",
      "metadata": {
        "id": "D1Xmaj2ndz7K"
      },
      "source": [
        "# Q1: Calibrated photometric stereo (75 points)\n"
      ]
    },
    {
      "cell_type": "markdown",
      "metadata": {
        "id": "TN9k_y5Mdz7K"
      },
      "source": [
        "### Q 1 (b): Rendering the n-dot-l lighting (10 points)"
      ]
    },
    {
      "cell_type": "code",
      "execution_count": null,
      "metadata": {
        "colab": {
          "base_uri": "https://localhost:8080/",
          "height": 1000
        },
        "id": "UdMbsbkQdz7K",
        "outputId": "0370a77d-cc15-4396-9b5e-8268c1d50876"
      },
      "outputs": [],
      "source": [
        "def renderNDotLSphere(center, rad, light, pxSize, res):\n",
        "\n",
        "    \"\"\"\n",
        "    Question 1 (b)\n",
        "\n",
        "    Render a hemispherical bowl with a given center and radius. Assume that\n",
        "    the hollow end of the bowl faces in the positive z direction, and the\n",
        "    camera looks towards the hollow end in the negative z direction. The\n",
        "    camera's sensor axes are aligned with the x- and y-axes.\n",
        "\n",
        "    Parameters\n",
        "    ----------\n",
        "    center : numpy.ndarray\n",
        "        The center of the hemispherical bowl in an array of size (3,)\n",
        "\n",
        "    rad : float\n",
        "        The radius of the bowl\n",
        "\n",
        "    light : numpy.ndarray\n",
        "        The direction of incoming light\n",
        "\n",
        "    pxSize : float\n",
        "        Pixel size\n",
        "\n",
        "    res : numpy.ndarray\n",
        "        The resolution of the camera frame\n",
        "\n",
        "    Returns\n",
        "    -------\n",
        "    image : numpy.ndarray\n",
        "        The rendered image of the hemispherical bowl\n",
        "    \"\"\"\n",
        "\n",
        "    [X, Y] = np.meshgrid(np.arange(res[0]), np.arange(res[1]))\n",
        "    X = (X - res[0]/2) * pxSize*1.e-4\n",
        "    Y = (Y - res[1]/2) * pxSize*1.e-4\n",
        "    Z = np.sqrt(rad**2+0j-X**2-Y**2)\n",
        "    X[np.real(Z) == 0] = 0\n",
        "    Y[np.real(Z) == 0] = 0\n",
        "    Z = np.real(Z)\n",
        "\n",
        "    image = None\n",
        "    valid = (Z>0)\n",
        "\n",
        "    vectors = np.zeros((res[1],res[0],3))\n",
        "    vectors[:,:,0] = X/rad\n",
        "    vectors[:,:,1] = Y/rad\n",
        "    vectors[:,:,2] = Z/rad\n",
        "    n_dot_l = np.zeros((res[1],res[0]))\n",
        "\n",
        "    for i in range(res[1]):\n",
        "      for j in range(res[0]):\n",
        "        if valid[i,j]:\n",
        "          normal = vectors[i,j]\n",
        "          d0t=np.dot(normal,light)\n",
        "          if d0t>0:\n",
        "            n_dot_l[i,j]=d0t\n",
        "\n",
        "    image = n_dot_l*valid\n",
        "\n",
        "    return image\n",
        "\n",
        "# Part 1(b)\n",
        "radius = 0.75 # cm\n",
        "center = np.asarray([0, 0, 0]) # cm\n",
        "pxSize = 7 # um\n",
        "res = (3840, 2160)\n",
        "\n",
        "light = np.asarray([1, 1, 1])/np.sqrt(3)\n",
        "image = renderNDotLSphere(center, radius, light, pxSize, res)\n",
        "plt.figure()\n",
        "plt.imshow(image, cmap = 'gray')\n",
        "plt.imsave('1b-a.png', image, cmap = 'gray')\n",
        "\n",
        "light = np.asarray([1, -1, 1])/np.sqrt(3)\n",
        "image = renderNDotLSphere(center, radius, light, pxSize, res)\n",
        "plt.figure()\n",
        "plt.imshow(image, cmap = 'gray')\n",
        "plt.imsave('1b-b.png', image, cmap = 'gray')\n",
        "\n",
        "light = np.asarray([-1, -1, 1])/np.sqrt(3)\n",
        "image = renderNDotLSphere(center, radius, light, pxSize, res)\n",
        "plt.figure()\n",
        "plt.imshow(image, cmap = 'gray')\n",
        "plt.imsave('1b-c.png', image, cmap = 'gray')\n",
        "\n",
        "I, L, s = loadData(data_dir)\n"
      ]
    },
    {
      "cell_type": "markdown",
      "metadata": {
        "id": "ZDdSvaMrdz7L"
      },
      "source": [
        "### Q 1 (c): Initials (10 points)\n"
      ]
    },
    {
      "cell_type": "code",
      "execution_count": null,
      "metadata": {
        "colab": {
          "base_uri": "https://localhost:8080/"
        },
        "id": "fSSnQi9Zdz7M",
        "outputId": "a6a0e9c1-0a42-4620-9764-aa4476dbb7cd"
      },
      "outputs": [],
      "source": [
        "### YOUR CODE HERE\n",
        "U,singular,Vh = np.linalg.svd(I,full_matrices=False)\n",
        "print(\"Singular values:\", singular)\n",
        "### END YOUR CODE"
      ]
    },
    {
      "cell_type": "markdown",
      "metadata": {
        "id": "eD-9Sn9sq2D1"
      },
      "source": []
    },
    {
      "cell_type": "markdown",
      "metadata": {
        "id": "w6G7ddVLdz7M"
      },
      "source": [
        "### Q 1 (d) Estimating pseudonormals (20 points)"
      ]
    },
    {
      "cell_type": "code",
      "execution_count": null,
      "metadata": {
        "id": "XMiSW9I5dz7M"
      },
      "outputs": [],
      "source": [
        "def estimatePseudonormalsCalibrated(I, L):\n",
        "\n",
        "    \"\"\"\n",
        "    Question 1 (d)\n",
        "\n",
        "    In calibrated photometric stereo, estimate pseudonormals from the\n",
        "    light direction and image matrices\n",
        "\n",
        "    Parameters\n",
        "    ----------\n",
        "    I : numpy.ndarray\n",
        "        The 7 x P array of vectorized images\n",
        "\n",
        "    L : numpy.ndarray\n",
        "        The 3 x 7 array of lighting directions\n",
        "\n",
        "    Returns\n",
        "    -------\n",
        "    B : numpy.ndarray\n",
        "        The 3 x P matrix of pesudonormals\n",
        "    \"\"\"\n",
        "\n",
        "    B = None\n",
        "\n",
        "    L= L/np.linalg.norm(L,axis=0,keepdims=True)\n",
        "    B = np.linalg.lstsq(L.T,I,rcond=None)[0]\n",
        "\n",
        "\n",
        "    return B\n",
        "\n",
        "# Part 1(e)\n",
        "B = estimatePseudonormalsCalibrated(I, L)\n"
      ]
    },
    {
      "cell_type": "markdown",
      "metadata": {
        "id": "T7_MwjCgdz7N"
      },
      "source": [
        "### Q 1 (e) Albedos and normals (10 points)"
      ]
    },
    {
      "cell_type": "code",
      "execution_count": null,
      "metadata": {
        "colab": {
          "base_uri": "https://localhost:8080/",
          "height": 853
        },
        "id": "jCszJyHIdz7N",
        "outputId": "9d16bdaa-d72d-4d47-bc30-0c60467820bd"
      },
      "outputs": [],
      "source": [
        "def estimateAlbedosNormals(B):\n",
        "\n",
        "    '''\n",
        "    Question 1 (e)\n",
        "\n",
        "    From the estimated pseudonormals, estimate the albedos and normals\n",
        "\n",
        "    Parameters\n",
        "    ----------\n",
        "    B : numpy.ndarray\n",
        "        The 3 x P matrix of estimated pseudonormals\n",
        "\n",
        "    Returns\n",
        "    -------\n",
        "    albedos : numpy.ndarray\n",
        "        The vector of albedos\n",
        "\n",
        "    normals : numpy.ndarray\n",
        "        The 3 x P matrix of normals\n",
        "    '''\n",
        "\n",
        "    albedos = None\n",
        "    normals = None\n",
        "\n",
        "\n",
        "    albedos = np.linalg.norm(B,axis=0).reshape(-1)\n",
        "\n",
        "    eps = 1e-20\n",
        "    normals=B/(albedos+eps)\n",
        "\n",
        "\n",
        "    return albedos, normals\n",
        "\n",
        "\n",
        "# Part 1(e)\n",
        "albedos, normals = estimateAlbedosNormals(B)\n",
        "albedoIm, normalIm = displayAlbedosNormals(albedos, normals, s)\n",
        "plt.imsave('1f-a.png', albedoIm, cmap = 'gray')\n",
        "plt.imsave('1f-b.png', normalIm, cmap = 'rainbow')\n"
      ]
    },
    {
      "cell_type": "markdown",
      "metadata": {
        "id": "cARXg6omdz7O"
      },
      "source": [
        "### Q 1 (h): Shape estimation (10 points)"
      ]
    },
    {
      "cell_type": "code",
      "execution_count": null,
      "metadata": {
        "colab": {
          "base_uri": "https://localhost:8080/",
          "height": 412
        },
        "id": "4J5AtljUdz7O",
        "outputId": "c124e4b7-a5ec-4b15-f4de-dfcfbf376f5e"
      },
      "outputs": [],
      "source": [
        "def estimateShape(normals, s):\n",
        "\n",
        "    \"\"\"\n",
        "    Question 1 (h)\n",
        "\n",
        "    Integrate the estimated normals to get an estimate of the depth map\n",
        "    of the surface.\n",
        "\n",
        "    Parameters\n",
        "    ----------\n",
        "    normals : numpy.ndarray\n",
        "        The 3 x P matrix of normals\n",
        "\n",
        "    s : tuple\n",
        "        Image shape\n",
        "\n",
        "    Returns\n",
        "    ----------\n",
        "    surface: numpy.ndarray\n",
        "        The image, of size s, of estimated depths at each point\n",
        "\n",
        "    \"\"\"\n",
        "\n",
        "    surface = None\n",
        "\n",
        "\n",
        "    height,width = s\n",
        "    vectors = normals.reshape((3,height,width))\n",
        "\n",
        "    x=vectors[0]\n",
        "    y=vectors[1]\n",
        "    z = vectors[2]\n",
        "\n",
        "    z =np.where(z==0, 1e-20, z)\n",
        "\n",
        "    dx = -x/z\n",
        "    dy= -y/z\n",
        "\n",
        "    surface = integrateFrankot(dx,dy)\n",
        "\n",
        "\n",
        "    return surface\n",
        "\n",
        "\n",
        "# Part 1(h)\n",
        "surface = estimateShape(normals, s)\n",
        "plotSurface(surface)\n",
        "\n",
        "\n"
      ]
    },
    {
      "cell_type": "markdown",
      "metadata": {
        "id": "MZvl7PT8dz7O"
      },
      "source": [
        "### Q 2 (b): Calculation and visualization (10 points)"
      ]
    },
    {
      "cell_type": "code",
      "execution_count": null,
      "metadata": {
        "colab": {
          "base_uri": "https://localhost:8080/",
          "height": 853
        },
        "id": "bU8Y-dyndz7O",
        "outputId": "cc6e3ba7-e048-4389-94c4-c3701807c811"
      },
      "outputs": [],
      "source": [
        "def estimatePseudonormalsUncalibrated(I):\n",
        "\n",
        "\t\"\"\"\n",
        "\tQuestion 2 (b)\n",
        "\n",
        "\tEstimate pseudonormals without the help of light source directions.\n",
        "\n",
        "\tParameters\n",
        "\t----------\n",
        "\tI : numpy.ndarray\n",
        "\t\tThe 7 x P matrix of loaded images\n",
        "\n",
        "\tReturns\n",
        "\t-------\n",
        "\tB : numpy.ndarray\n",
        "\t\tThe 3 x P matrix of pesudonormals\n",
        "\n",
        "    L : numpy.ndarray\n",
        "        The 3 x 7 array of lighting directions\n",
        "\n",
        "\t\"\"\"\n",
        "\n",
        "\tB = None\n",
        "\tL = None\n",
        "\t### YOUR CODE HERE\n",
        "\tU,singular,Vt = np.linalg.svd(I,full_matrices=False)\n",
        "\n",
        "\tU3=U[:,:3]\n",
        "\ts3 = singular[:3]\n",
        "\tV3t = Vt[:3,:]\n",
        "\tS3_sqrt=np.diag(np.sqrt(s3))\n",
        "\n",
        "\tL_T= U3 @ S3_sqrt\n",
        "\tB = S3_sqrt @ V3t\n",
        "\n",
        "\tL = L_T.T\n",
        "\n",
        "\t### END YOUR CODE\n",
        "\treturn B, L\n",
        "\n",
        "# Part 2 (b)\n",
        "I, L, s = loadData(data_dir)\n",
        "B, LEst = estimatePseudonormalsUncalibrated(I)\n",
        "albedos, normals = estimateAlbedosNormals(B)\n",
        "albedoIm, normalIm = displayAlbedosNormals(albedos, normals, s)\n",
        "plt.imsave('2b-a.png', albedoIm, cmap = 'gray')\n",
        "plt.imsave('2b-b.png', normalIm, cmap = 'rainbow')\n"
      ]
    },
    {
      "cell_type": "markdown",
      "metadata": {
        "id": "3qBkc-hvdz7P"
      },
      "source": [
        "### Q 2 (d): Reconstructing the shape, attempt 1 (5 points)\n",
        "\n",
        "---\n",
        "\n",
        "This does not at all look like a face\n",
        "\n",
        "---"
      ]
    },
    {
      "cell_type": "code",
      "execution_count": null,
      "metadata": {
        "colab": {
          "base_uri": "https://localhost:8080/",
          "height": 412
        },
        "id": "EucExtJcdz7P",
        "outputId": "775c858e-c222-422d-d31a-0af5c2487904"
      },
      "outputs": [],
      "source": [
        "# Part 2 (d)\n",
        "### YOUR CODE HERE\n",
        "\n",
        "\n",
        "B, Lest = estimatePseudonormalsUncalibrated(I)\n",
        "albedos_d,normals_d = estimateAlbedosNormals(B)\n",
        "surface_d = estimateShape(normals_d,s)\n",
        "plotSurface(surface_d)\n",
        "### END YOUR CODE"
      ]
    },
    {
      "cell_type": "markdown",
      "metadata": {
        "id": "CHDPIAHxdz7P"
      },
      "source": [
        "### Q 2 (e): Reconstructing the shape, attempt 2 (5 points)\n",
        "\n",
        "---\n",
        "\n",
        "This looks much much closer.\n",
        "\n",
        "---\n"
      ]
    },
    {
      "cell_type": "code",
      "execution_count": null,
      "metadata": {
        "colab": {
          "base_uri": "https://localhost:8080/",
          "height": 412
        },
        "id": "3pqQyzBUdz7P",
        "outputId": "0c084ed6-6806-4436-a0a6-b68adaa2b416"
      },
      "outputs": [],
      "source": [
        "# Part 2 (e)\n",
        "# Your code here\n",
        "### YOUR CODE HERE\n",
        "\n",
        "B,LEst = estimatePseudonormalsUncalibrated(I)\n",
        "B_int= enforceIntegrability(B,s)\n",
        "albedos_d,normals_d = estimateAlbedosNormals(B_int)\n",
        "surface_e = estimateShape(normals_d,s)\n",
        "plotSurface(surface_e)\n",
        "### END YOUR CODE"
      ]
    },
    {
      "cell_type": "markdown",
      "metadata": {
        "id": "LBlSlJfimyvh"
      },
      "source": []
    },
    {
      "cell_type": "markdown",
      "metadata": {
        "id": "ZPvHf7xCdz7P"
      },
      "source": [
        "### Q 2 (f): Why low relief? (5 points)"
      ]
    },
    {
      "cell_type": "code",
      "execution_count": null,
      "metadata": {
        "colab": {
          "base_uri": "https://localhost:8080/",
          "height": 5000
        },
        "id": "AfFfneqVdz7Q",
        "outputId": "652942cd-e698-4a87-f6bc-49ef0e499887"
      },
      "outputs": [],
      "source": [
        "def plotBasRelief(B, mu, nu, lam):\n",
        "    \"\"\"\n",
        "    Make a 3D plot of a bas-relief transformation with the given parameters.\n",
        "    \"\"\"\n",
        "    P = np.array([\n",
        "        [1, 0, -mu / lam],\n",
        "        [0, 1, -nu / lam],\n",
        "        [0, 0, 1 / lam]\n",
        "    ])\n",
        "    Bp = P.dot(B)\n",
        "    surface = estimateShape(Bp, s)\n",
        "    title = f'μ = {mu}, ν = {nu}, λ = {lam}'\n",
        "    plotSurface(surface, suffix=f'_mu{mu}_nu{nu}_lam{lam:.2f}', title=title)\n",
        "\n",
        "# keep all outputs visible\n",
        "from IPython.display import Javascript\n",
        "display(Javascript('''google.colab.output.setIframeHeight(0, true, {maxHeight: 5000})'''))\n",
        "\n",
        "# Part 2 (f)\n",
        "### YOUR CODE HERE\n",
        "B, LEst = estimatePseudonormalsUncalibrated(I)\n",
        "B_int = enforceIntegrability(B, s)\n",
        "\n",
        "\n",
        "mu_vals = [0, 0.1,0.3]\n",
        "nu_vals = [0,0.1,0.3]\n",
        "lam_vals = [0.1, 0.3]\n",
        "\n",
        "\n",
        "for lam in lam_vals:\n",
        "  for mu in mu_vals:\n",
        "    for nu in nu_vals:\n",
        "      plotBasRelief(B_int, mu=mu, nu=nu, lam=lam)\n",
        "\n",
        "### END YOUR CODE\n",
        "\n"
      ]
    }
  ],
  "metadata": {
    "colab": {
      "provenance": []
    },
    "kernelspec": {
      "display_name": "Python 3",
      "language": "python",
      "name": "python3"
    },
    "language_info": {
      "codemirror_mode": {
        "name": "ipython",
        "version": 3
      },
      "file_extension": ".py",
      "mimetype": "text/x-python",
      "name": "python",
      "nbconvert_exporter": "python",
      "pygments_lexer": "ipython3",
      "version": "3.11.12"
    }
  },
  "nbformat": 4,
  "nbformat_minor": 0
}
